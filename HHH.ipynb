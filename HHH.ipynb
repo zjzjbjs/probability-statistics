{
 "cells": [
  {
   "cell_type": "markdown",
   "id": "42d7240c",
   "metadata": {},
   "source": [
    "# 连续掷出三次正面朝上所需次数的期望值"
   ]
  },
  {
   "cell_type": "markdown",
   "id": "ed7eda34",
   "metadata": {},
   "source": [
    "## 理论计算"
   ]
  },
  {
   "cell_type": "markdown",
   "id": "2525a712",
   "metadata": {},
   "source": [
    "令$S(i), i = 1, 2, 3$表示连续掷出正面所需的次数。由于我们需要的是连续掷出三次正面朝上，而连续三次正面朝上的基础是连续掷出两次正面朝上，所以我们假定当前已经出现了两次正面朝上，那么掷出第三次正面朝上的期望次数为$S(3)$。\n",
    "$$\n",
    "S(3)=\\frac{1}{2}\\times[S(2)+1]+\\frac{1}{2}[S(2)+1+S(3)]\n",
    "$$\n",
    "得，$S(3)=2+2*S(2)$.\n",
    "\n",
    "同理，$$S(2)=\\frac{1}{2}\\times[S(1)+1]+\\frac{1}{2}[S(1)+1+S(2)]$$\n",
    "得，$S(2)=2+2*S(1)$.\n",
    "\n",
    "当$i=1$时，\n",
    "$$\n",
    "\\frac{1}{2}\\times1+\\frac{1}{2}[1+S(1)]=S(1)\n",
    "$$\n",
    "于是得，$S(1)=2$，即掷出一次正面朝上所需次数的期望值为2。\n",
    "\n",
    "计算得，$S(3)=14$.\n",
    "\n",
    "该计算过程运用了值函数的思想，并且关键的思考过程为，先从连续掷出两次正面朝上所需次数已经确定，考虑连续掷出三次正面朝上所需次数的期望值入手。"
   ]
  },
  {
   "cell_type": "markdown",
   "id": "c97d4d29",
   "metadata": {},
   "source": [
    "## 数值模拟"
   ]
  },
  {
   "cell_type": "code",
   "execution_count": 19,
   "id": "47c8e565",
   "metadata": {},
   "outputs": [
    {
     "name": "stdout",
     "output_type": "stream",
     "text": [
      "连续三次正面朝上所需次数的期望值: 14.0。\n"
     ]
    }
   ],
   "source": [
    "import random\n",
    "import numpy as np\n",
    "\n",
    "# 模拟次数\n",
    "simulations = 100000\n",
    "total_tosses = 0\n",
    "\n",
    "for _ in range(simulations):\n",
    "    consecutive_heads = 0\n",
    "    tosses = 0\n",
    "    while consecutive_heads < 3:\n",
    "        toss = random.choice([0, 1])  # 0 代表反面，1 代表正面\n",
    "        tosses += 1\n",
    "        if toss == 1:\n",
    "            consecutive_heads += 1\n",
    "        else:\n",
    "            consecutive_heads = 0\n",
    "\n",
    "    total_tosses += tosses\n",
    "\n",
    "# 计算期望值\n",
    "expected_value = total_tosses / simulations\n",
    "mean_times = np.round(expected_value,0)\n",
    "print(f\"连续三次正面朝上所需次数的期望值: {mean_times}。\")\n"
   ]
  }
 ],
 "metadata": {
  "kernelspec": {
   "display_name": "Python 3",
   "language": "python",
   "name": "python3"
  },
  "language_info": {
   "codemirror_mode": {
    "name": "ipython",
    "version": 3
   },
   "file_extension": ".py",
   "mimetype": "text/x-python",
   "name": "python",
   "nbconvert_exporter": "python",
   "pygments_lexer": "ipython3",
   "version": "3.13.3"
  }
 },
 "nbformat": 4,
 "nbformat_minor": 5
}
